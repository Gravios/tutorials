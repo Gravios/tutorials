{
 "cells": [
  {
   "cell_type": "code",
   "execution_count": 1,
   "id": "1671692f-56ef-4ba2-9e6c-af8a06f56ae0",
   "metadata": {},
   "outputs": [],
   "source": [
    "import matplotlib\n",
    "import matplotlib.pyplot as plt\n",
    "import os \n",
    "import re\n",
    "import shutil\n",
    "import string\n",
    "import tensorflow as tf\n",
    "\n",
    "from tensorflow.keras import layers\n",
    "from tensorflow.keras import losses\n"
   ]
  },
  {
   "cell_type": "code",
   "execution_count": 2,
   "id": "1e632abb-de62-43a7-8d18-23d2484a7fe7",
   "metadata": {},
   "outputs": [
    {
     "name": "stdout",
     "output_type": "stream",
     "text": [
      "2.4.1\n"
     ]
    }
   ],
   "source": [
    "print(tf.__version__)"
   ]
  },
  {
   "cell_type": "code",
   "execution_count": 6,
   "id": "5b160996-f3ba-4510-8560-38ea7646c0a2",
   "metadata": {},
   "outputs": [
    {
     "name": "stdout",
     "output_type": "stream",
     "text": [
      "Downloading data from https://ai.stanford.edu/~amaas/data/sentiment/aclImdb_v1.tar.gz\n",
      "84131840/84125825 [==============================] - 28s 0us/step\n"
     ]
    }
   ],
   "source": [
    "url = \"https://ai.stanford.edu/~amaas/data/sentiment/aclImdb_v1.tar.gz\"\n",
    "dataset = tf.keras.utils.get_file(\"aclImdb_v1\", url,\n",
    "                                 untar=True, cache_dir='.',\n",
    "                                 cache_subdir='')\n",
    "dataset_dir = os.path.join(os.path.dirname(dataset),'aclImdb')"
   ]
  },
  {
   "cell_type": "code",
   "execution_count": 7,
   "id": "a0999bd1-9893-4f07-9f0a-93e592c6dea0",
   "metadata": {},
   "outputs": [
    {
     "data": {
      "text/plain": [
       "['README', 'test', 'imdb.vocab', 'imdbEr.txt', 'train']"
      ]
     },
     "execution_count": 7,
     "metadata": {},
     "output_type": "execute_result"
    }
   ],
   "source": [
    "os.listdir(dataset_dir)"
   ]
  },
  {
   "cell_type": "code",
   "execution_count": 8,
   "id": "c6605172-27ea-40dc-ab97-98b28aa3ee6c",
   "metadata": {},
   "outputs": [
    {
     "data": {
      "text/plain": [
       "['urls_pos.txt',\n",
       " 'labeledBow.feat',\n",
       " 'urls_unsup.txt',\n",
       " 'pos',\n",
       " 'unsupBow.feat',\n",
       " 'unsup',\n",
       " 'urls_neg.txt',\n",
       " 'neg']"
      ]
     },
     "execution_count": 8,
     "metadata": {},
     "output_type": "execute_result"
    }
   ],
   "source": [
    "train_dir = os.path.join(dataset_dir, 'train')\n",
    "os.listdir(train_dir)"
   ]
  },
  {
   "cell_type": "code",
   "execution_count": 9,
   "id": "98b8d392-2f6f-4127-88a4-7e8bbae8779e",
   "metadata": {},
   "outputs": [
    {
     "name": "stdout",
     "output_type": "stream",
     "text": [
      "Rachel Griffiths writes and directs this award winning short film. A heartwarming story about coping with grief and cherishing the memory of those we've loved and lost. Although, only 15 minutes long, Griffiths manages to capture so much emotion and truth onto film in the short space of time. Bud Tingwell gives a touching performance as Will, a widower struggling to cope with his wife's death. Will is confronted by the harsh reality of loneliness and helplessness as he proceeds to take care of Ruth's pet cow, Tulip. The film displays the grief and responsibility one feels for those they have loved and lost. Good cinematography, great direction, and superbly acted. It will bring tears to all those who have lost a loved one, and survived.\n"
     ]
    }
   ],
   "source": [
    "sample_file = os.path.join(train_dir, 'pos/1181_9.txt')\n",
    "with open(sample_file) as f:\n",
    "    print(f.read())"
   ]
  },
  {
   "cell_type": "code",
   "execution_count": 10,
   "id": "4affa62c-d054-43b7-a7b2-bc80088bd902",
   "metadata": {},
   "outputs": [],
   "source": [
    "shutil.rmtree(os.path.join(train_dir, 'unsup'))"
   ]
  },
  {
   "cell_type": "code",
   "execution_count": 11,
   "id": "3ae1e631-185a-40fb-8d19-9b09cfc906ef",
   "metadata": {},
   "outputs": [
    {
     "ename": "AttributeError",
     "evalue": "module 'tensorflow.keras.utils' has no attribute 'text_dataset_from_directory'",
     "output_type": "error",
     "traceback": [
      "\u001b[0;31m---------------------------------------------------------------------------\u001b[0m",
      "\u001b[0;31mAttributeError\u001b[0m                            Traceback (most recent call last)",
      "\u001b[0;32m<ipython-input-11-21c0f45db267>\u001b[0m in \u001b[0;36m<module>\u001b[0;34m\u001b[0m\n\u001b[1;32m      2\u001b[0m \u001b[0mseed\u001b[0m \u001b[0;34m=\u001b[0m \u001b[0;36m64\u001b[0m\u001b[0;34m\u001b[0m\u001b[0;34m\u001b[0m\u001b[0m\n\u001b[1;32m      3\u001b[0m \u001b[0;34m\u001b[0m\u001b[0m\n\u001b[0;32m----> 4\u001b[0;31m raw_train_ds = tf.keras.utils.text_dataset_from_directory(\n\u001b[0m\u001b[1;32m      5\u001b[0m \u001b[0;34m'aclImdb/train'\u001b[0m\u001b[0;34m,\u001b[0m\u001b[0;34m\u001b[0m\u001b[0;34m\u001b[0m\u001b[0m\n\u001b[1;32m      6\u001b[0m \u001b[0mbatch_size\u001b[0m\u001b[0;34m=\u001b[0m\u001b[0mbatch_size\u001b[0m\u001b[0;34m,\u001b[0m\u001b[0;34m\u001b[0m\u001b[0;34m\u001b[0m\u001b[0m\n",
      "\u001b[0;31mAttributeError\u001b[0m: module 'tensorflow.keras.utils' has no attribute 'text_dataset_from_directory'"
     ]
    }
   ],
   "source": [
    "batch_size = 32\n",
    "seed = 64\n",
    "\n",
    "raw_train_ds = tf.keras.utils.\n",
    "'aclImdb/train',\n",
    "batch_size=batch_size,\n",
    "validation_split=0.2,\n",
    "subset='training',\n",
    "seed=seed)\n"
   ]
  },
  {
   "cell_type": "code",
   "execution_count": null,
   "id": "04c0ebc7-a4dc-455a-8936-ca630a8cf7f1",
   "metadata": {},
   "outputs": [],
   "source": []
  }
 ],
 "metadata": {
  "kernelspec": {
   "display_name": "Python 3",
   "language": "python",
   "name": "python3"
  },
  "language_info": {
   "codemirror_mode": {
    "name": "ipython",
    "version": 3
   },
   "file_extension": ".py",
   "mimetype": "text/x-python",
   "name": "python",
   "nbconvert_exporter": "python",
   "pygments_lexer": "ipython3",
   "version": "3.8.8"
  }
 },
 "nbformat": 4,
 "nbformat_minor": 5
}
