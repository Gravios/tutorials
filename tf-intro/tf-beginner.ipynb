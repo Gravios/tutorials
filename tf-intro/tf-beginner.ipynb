{
 "cells": [
  {
   "cell_type": "code",
   "execution_count": 1,
   "id": "4d0d2c7d-2998-4505-bba3-778a55932302",
   "metadata": {},
   "outputs": [],
   "source": [
    "import tensorflow as tf"
   ]
  },
  {
   "cell_type": "code",
   "execution_count": 2,
   "id": "b1af2074-a514-4176-b120-459b362565b9",
   "metadata": {},
   "outputs": [],
   "source": [
    "mnist = tf.keras.datasets.mnist\n",
    "(x_train, y_train), (x_test, y_test) = mnist.load_data()\n",
    "x_train, x_test = x_train / 255.0, x_test / 255.0"
   ]
  },
  {
   "cell_type": "code",
   "execution_count": 3,
   "id": "efe6951d-8fd8-4aa2-b30e-b64a141f5955",
   "metadata": {},
   "outputs": [],
   "source": [
    "model = tf.keras.models.Sequential([\n",
    "    tf.keras.layers.Flatten(input_shape=(28,28)),\n",
    "    tf.keras.layers.Dense(128, activation='relu'),\n",
    "    tf.keras.layers.Dropout(0.2),\n",
    "    tf.keras.layers.Dense(10)\n",
    "])\n"
   ]
  },
  {
   "cell_type": "code",
   "execution_count": 4,
   "id": "635843bf-8ed9-47ac-b74a-1aadd420f1ce",
   "metadata": {},
   "outputs": [
    {
     "data": {
      "text/plain": [
       "array([[-0.7092858 ,  0.17518751,  0.8325821 , -0.6609273 , -0.14033899,\n",
       "         0.13255273,  0.54622495, -0.08804033,  0.90134454, -0.25428   ]],\n",
       "      dtype=float32)"
      ]
     },
     "execution_count": 4,
     "metadata": {},
     "output_type": "execute_result"
    }
   ],
   "source": [
    "predictions = model(x_train[:1]).numpy()\n",
    "predictions"
   ]
  },
  {
   "cell_type": "code",
   "execution_count": 5,
   "id": "c26471ff-2914-42ad-a2c9-a3cee79fb552",
   "metadata": {},
   "outputs": [
    {
     "data": {
      "text/plain": [
       "array([[0.03970677, 0.09615821, 0.18556209, 0.04167411, 0.07013825,\n",
       "        0.0921447 , 0.13935606, 0.07390401, 0.1987707 , 0.06258512]],\n",
       "      dtype=float32)"
      ]
     },
     "execution_count": 5,
     "metadata": {},
     "output_type": "execute_result"
    }
   ],
   "source": [
    "tf.nn.softmax(predictions).numpy()"
   ]
  },
  {
   "cell_type": "code",
   "execution_count": 6,
   "id": "9a792e8c-f399-4c01-bd1c-ed41920fb75a",
   "metadata": {},
   "outputs": [],
   "source": [
    "loss_fn = tf.keras.losses.SparseCategoricalCrossentropy(from_logits=True)"
   ]
  },
  {
   "cell_type": "code",
   "execution_count": 7,
   "id": "d3f48e4e-d4e7-40c7-abf0-d56301913a89",
   "metadata": {},
   "outputs": [
    {
     "data": {
      "text/plain": [
       "2.3843951"
      ]
     },
     "execution_count": 7,
     "metadata": {},
     "output_type": "execute_result"
    }
   ],
   "source": [
    "loss_fn(y_train[:1], predictions).numpy()"
   ]
  },
  {
   "cell_type": "code",
   "execution_count": 8,
   "id": "e1ea6fb3-35f8-4eac-aaf9-df0861b2690c",
   "metadata": {},
   "outputs": [],
   "source": [
    "model.compile(optimizer='adam',loss=loss_fn,metrics=['accuracy'])"
   ]
  },
  {
   "cell_type": "code",
   "execution_count": 12,
   "id": "0069b066-8626-44cd-a1a9-a63dc9a794d1",
   "metadata": {},
   "outputs": [
    {
     "name": "stdout",
     "output_type": "stream",
     "text": [
      "Epoch 1/10\n",
      "1875/1875 [==============================] - 3s 2ms/step - loss: 0.0676 - accuracy: 0.9787\n",
      "Epoch 2/10\n",
      "1875/1875 [==============================] - 3s 2ms/step - loss: 0.0568 - accuracy: 0.9815\n",
      "Epoch 3/10\n",
      "1875/1875 [==============================] - 3s 2ms/step - loss: 0.0529 - accuracy: 0.9825\n",
      "Epoch 4/10\n",
      "1875/1875 [==============================] - 3s 2ms/step - loss: 0.0474 - accuracy: 0.9844\n",
      "Epoch 5/10\n",
      "1875/1875 [==============================] - 3s 2ms/step - loss: 0.0449 - accuracy: 0.9848\n",
      "Epoch 6/10\n",
      "1875/1875 [==============================] - 3s 2ms/step - loss: 0.0421 - accuracy: 0.9862\n",
      "Epoch 7/10\n",
      "1875/1875 [==============================] - 3s 2ms/step - loss: 0.0394 - accuracy: 0.9868\n",
      "Epoch 8/10\n",
      "1875/1875 [==============================] - 3s 2ms/step - loss: 0.0377 - accuracy: 0.9872\n",
      "Epoch 9/10\n",
      "1875/1875 [==============================] - 3s 2ms/step - loss: 0.0334 - accuracy: 0.9883\n",
      "Epoch 10/10\n",
      "1875/1875 [==============================] - 3s 2ms/step - loss: 0.0335 - accuracy: 0.9883\n"
     ]
    },
    {
     "data": {
      "text/plain": [
       "<tensorflow.python.keras.callbacks.History at 0x7ff4be473970>"
      ]
     },
     "execution_count": 12,
     "metadata": {},
     "output_type": "execute_result"
    }
   ],
   "source": [
    "model.fit(x_train, y_train, epochs=10)"
   ]
  },
  {
   "cell_type": "code",
   "execution_count": 13,
   "id": "dcff7c6d-4e3e-4b87-b28b-116f5388788b",
   "metadata": {},
   "outputs": [
    {
     "name": "stdout",
     "output_type": "stream",
     "text": [
      "313/313 - 0s - loss: 0.0760 - accuracy: 0.9789\n"
     ]
    },
    {
     "data": {
      "text/plain": [
       "[0.07598661631345749, 0.9789000153541565]"
      ]
     },
     "execution_count": 13,
     "metadata": {},
     "output_type": "execute_result"
    }
   ],
   "source": [
    "model.evaluate(x_test, y_test, verbose=2)"
   ]
  },
  {
   "cell_type": "code",
   "execution_count": 14,
   "id": "e49b85d3-3857-4590-9dde-355d3f2188a6",
   "metadata": {},
   "outputs": [],
   "source": [
    "prob_model = tf.keras.Sequential([model,tf.keras.layers.Softmax()])"
   ]
  },
  {
   "cell_type": "code",
   "execution_count": 15,
   "id": "174d0d95-5544-478c-b0cc-ba85e2f23e99",
   "metadata": {},
   "outputs": [
    {
     "data": {
      "text/plain": [
       "<tf.Tensor: shape=(5, 10), dtype=float32, numpy=\n",
       "array([[4.71847865e-12, 2.49904291e-13, 1.04465867e-10, 2.02482852e-06,\n",
       "        9.30053839e-18, 5.61193453e-11, 9.07255418e-18, 9.99997973e-01,\n",
       "        1.97781749e-10, 2.90059035e-08],\n",
       "       [1.87338361e-12, 1.05223288e-08, 1.00000000e+00, 5.19616902e-13,\n",
       "        6.37712785e-31, 7.31041357e-15, 1.96088927e-13, 2.64276908e-25,\n",
       "        1.81376818e-13, 6.60858264e-25],\n",
       "       [5.15032496e-11, 9.99974012e-01, 1.12433036e-05, 3.15722182e-09,\n",
       "        7.96768973e-07, 5.79115822e-09, 4.36228387e-09, 1.38486348e-05,\n",
       "        1.51042457e-07, 1.68002112e-09],\n",
       "       [1.00000000e+00, 4.45899150e-15, 4.97282642e-08, 8.78666306e-11,\n",
       "        2.84920498e-13, 1.64435063e-10, 2.85686058e-10, 4.60925342e-09,\n",
       "        1.04655503e-11, 1.02422772e-08],\n",
       "       [1.50648560e-08, 1.52115206e-17, 3.46685658e-09, 5.25581152e-13,\n",
       "        9.99833226e-01, 1.23154195e-10, 2.31627517e-09, 1.82394047e-07,\n",
       "        9.37329148e-08, 1.66466270e-04]], dtype=float32)>"
      ]
     },
     "execution_count": 15,
     "metadata": {},
     "output_type": "execute_result"
    }
   ],
   "source": [
    "prob_model(x_test[:5])"
   ]
  },
  {
   "cell_type": "code",
   "execution_count": null,
   "id": "84ee084f-a7d2-41a9-b73d-e98a9ba1042e",
   "metadata": {},
   "outputs": [],
   "source": []
  }
 ],
 "metadata": {
  "kernelspec": {
   "display_name": "Python 3",
   "language": "python",
   "name": "python3"
  },
  "language_info": {
   "codemirror_mode": {
    "name": "ipython",
    "version": 3
   },
   "file_extension": ".py",
   "mimetype": "text/x-python",
   "name": "python",
   "nbconvert_exporter": "python",
   "pygments_lexer": "ipython3",
   "version": "3.8.8"
  }
 },
 "nbformat": 4,
 "nbformat_minor": 5
}
